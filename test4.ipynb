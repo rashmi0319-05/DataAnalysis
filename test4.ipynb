{
  "nbformat": 4,
  "nbformat_minor": 0,
  "metadata": {
    "colab": {
      "provenance": [],
      "mount_file_id": "1B3rQC23h64zmQbn-h1TgwofA4ecuXk1U",
      "authorship_tag": "ABX9TyOhmMElmdiqfPF2rHY00kp/",
      "include_colab_link": true
    },
    "kernelspec": {
      "name": "python3",
      "display_name": "Python 3"
    },
    "language_info": {
      "name": "python"
    }
  },
  "cells": [
    {
      "cell_type": "markdown",
      "metadata": {
        "id": "view-in-github",
        "colab_type": "text"
      },
      "source": [
        "<a href=\"https://colab.research.google.com/github/rashmi0319-05/DataAnalysis/blob/main/test4.ipynb\" target=\"_parent\"><img src=\"https://colab.research.google.com/assets/colab-badge.svg\" alt=\"Open In Colab\"/></a>"
      ]
    },
    {
      "cell_type": "markdown",
      "source": [
        "#logist"
      ],
      "metadata": {
        "id": "KvWtrYDadFlc"
      }
    },
    {
      "cell_type": "code",
      "source": [
        "import pandas as pd\n",
        "from sklearn.linear_model import LogisticRegression\n",
        "from sklearn.model_selection import train_test_split\n",
        "df=pd.read_csv('/content/drive/MyDrive/StudentsPerformance.csv')\n",
        "x=df[['math score']]\n",
        "y=df['reading score']\n",
        "x_train,x_test,y_train,y_test=train_test_split(x,y,test_size=0.2)\n",
        "model=LogisticRegression()\n",
        "model.fit(x_train,y_train)\n",
        "model.predict(x_test)\n",
        "print(model.score(x_test,y_test))"
      ],
      "metadata": {
        "colab": {
          "base_uri": "https://localhost:8080/"
        },
        "id": "-8mgPte2gWo0",
        "outputId": "c35aef06-c992-42f0-b6fc-33c85da815b5"
      },
      "execution_count": 15,
      "outputs": [
        {
          "output_type": "stream",
          "name": "stdout",
          "text": [
            "0.045\n"
          ]
        },
        {
          "output_type": "stream",
          "name": "stderr",
          "text": [
            "/usr/local/lib/python3.10/dist-packages/sklearn/linear_model/_logistic.py:469: ConvergenceWarning: lbfgs failed to converge (status=1):\n",
            "STOP: TOTAL NO. of ITERATIONS REACHED LIMIT.\n",
            "\n",
            "Increase the number of iterations (max_iter) or scale the data as shown in:\n",
            "    https://scikit-learn.org/stable/modules/preprocessing.html\n",
            "Please also refer to the documentation for alternative solver options:\n",
            "    https://scikit-learn.org/stable/modules/linear_model.html#logistic-regression\n",
            "  n_iter_i = _check_optimize_result(\n"
          ]
        }
      ]
    },
    {
      "cell_type": "markdown",
      "source": [
        "#svm"
      ],
      "metadata": {
        "id": "ovbWe2I1giPE"
      }
    },
    {
      "cell_type": "code",
      "source": [
        "import pandas as pd\n",
        "from sklearn.svm import SVC\n",
        "from sklearn.model_selection import train_test_split\n",
        "df=pd.read_csv('/content/drive/MyDrive/StudentsPerformance.csv')\n",
        "x=df[['writing score']]\n",
        "y=df['reading score']\n",
        "x_train,x_test,y_train,y_test=train_test_split(x,y,test_size=0.2)\n",
        "model=SVC()\n",
        "model.fit(x_train,y_train)\n",
        "model.predict(x_test)\n",
        "print(model.score(x_test,y_test))"
      ],
      "metadata": {
        "colab": {
          "base_uri": "https://localhost:8080/"
        },
        "id": "KXL8LMS9gf0o",
        "outputId": "95f81c4a-c104-4411-bd7f-cd8a6875859e"
      },
      "execution_count": 17,
      "outputs": [
        {
          "output_type": "stream",
          "name": "stdout",
          "text": [
            "0.08\n"
          ]
        }
      ]
    },
    {
      "cell_type": "markdown",
      "source": [
        "#max_voting"
      ],
      "metadata": {
        "id": "-BewSXKrhKxL"
      }
    },
    {
      "cell_type": "code",
      "source": [
        "import pandas as pd\n",
        "from sklearn.ensemble import VotingClassifier\n",
        "from sklearn.tree import DecisionTreeClassifier\n",
        "from sklearn.linear_model import LogisticRegression\n",
        "from sklearn.ensemble import RandomForestClassifier\n",
        "df=pd.read_csv('/content/drive/MyDrive/StudentsPerformance.csv')\n",
        "x=df[['math score']]\n",
        "y=df['reading score']\n",
        "model1=DecisionTreeClassifier()\n",
        "model2=LogisticRegression()\n",
        "model3=RandomForestClassifier()\n",
        "max_voting=VotingClassifier(estimators=[('dt',model1),('lr',model2),('rf',model3)])\n",
        "max_voting.fit(x,y)\n",
        "max_voting.predict(x)\n",
        "print(max_voting.score(x,y))"
      ],
      "metadata": {
        "colab": {
          "base_uri": "https://localhost:8080/"
        },
        "id": "_uuLY9jajIud",
        "outputId": "30be926c-887f-473e-e038-44b3b4e9e027"
      },
      "execution_count": 32,
      "outputs": [
        {
          "output_type": "stream",
          "name": "stderr",
          "text": [
            "/usr/local/lib/python3.10/dist-packages/sklearn/linear_model/_logistic.py:469: ConvergenceWarning: lbfgs failed to converge (status=1):\n",
            "STOP: TOTAL NO. of ITERATIONS REACHED LIMIT.\n",
            "\n",
            "Increase the number of iterations (max_iter) or scale the data as shown in:\n",
            "    https://scikit-learn.org/stable/modules/preprocessing.html\n",
            "Please also refer to the documentation for alternative solver options:\n",
            "    https://scikit-learn.org/stable/modules/linear_model.html#logistic-regression\n",
            "  n_iter_i = _check_optimize_result(\n"
          ]
        },
        {
          "output_type": "stream",
          "name": "stdout",
          "text": [
            "0.169\n"
          ]
        }
      ]
    },
    {
      "cell_type": "code",
      "source": [],
      "metadata": {
        "id": "jmGALC-wkHbo"
      },
      "execution_count": null,
      "outputs": []
    }
  ]
}