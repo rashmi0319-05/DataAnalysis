{
  "nbformat": 4,
  "nbformat_minor": 0,
  "metadata": {
    "colab": {
      "provenance": [],
      "authorship_tag": "ABX9TyO5GtyCIaYYGjBY2m47JZ8u",
      "include_colab_link": true
    },
    "kernelspec": {
      "name": "python3",
      "display_name": "Python 3"
    },
    "language_info": {
      "name": "python"
    }
  },
  "cells": [
    {
      "cell_type": "markdown",
      "metadata": {
        "id": "view-in-github",
        "colab_type": "text"
      },
      "source": [
        "<a href=\"https://colab.research.google.com/github/rashmi0319-05/DataAnalysis/blob/main/test.ipynb\" target=\"_parent\"><img src=\"https://colab.research.google.com/assets/colab-badge.svg\" alt=\"Open In Colab\"/></a>"
      ]
    },
    {
      "cell_type": "code",
      "execution_count": 7,
      "metadata": {
        "colab": {
          "base_uri": "https://localhost:8080/"
        },
        "id": "Rd1mqTjg0WpN",
        "outputId": "2f9e791e-60f6-46a0-ba32-1e28b0824822"
      },
      "outputs": [
        {
          "output_type": "stream",
          "name": "stdout",
          "text": [
            "<class 'pandas.core.frame.DataFrame'>\n",
            "RangeIndex: 10683 entries, 0 to 10682\n",
            "Data columns (total 14 columns):\n",
            " #   Column          Non-Null Count  Dtype \n",
            "---  ------          --------------  ----- \n",
            " 0   Airline         10683 non-null  object\n",
            " 1   Source          10683 non-null  object\n",
            " 2   Destination     10683 non-null  object\n",
            " 3   Total_Stops     10683 non-null  int64 \n",
            " 4   Price           10683 non-null  int64 \n",
            " 5   Date            10683 non-null  int64 \n",
            " 6   Month           10683 non-null  int64 \n",
            " 7   Year            10683 non-null  int64 \n",
            " 8   Dep_hours       10683 non-null  int64 \n",
            " 9   Dep_min         10683 non-null  int64 \n",
            " 10  Arrival_hours   10683 non-null  int64 \n",
            " 11  Arrival_min     10683 non-null  int64 \n",
            " 12  Duration_hours  10683 non-null  int64 \n",
            " 13  Duration_min    10683 non-null  int64 \n",
            "dtypes: int64(11), object(3)\n",
            "memory usage: 1.1+ MB\n",
            "None\n",
            "        Total_Stops         Price          Date         Month     Year  \\\n",
            "count  10683.000000  10683.000000  10683.000000  10683.000000  10683.0   \n",
            "mean       0.824207   9087.064121     13.508378      4.708602   2019.0   \n",
            "std        0.675199   4611.359167      8.479277      1.164357      0.0   \n",
            "min        0.000000   1759.000000      1.000000      3.000000   2019.0   \n",
            "25%        0.000000   5277.000000      6.000000      3.000000   2019.0   \n",
            "50%        1.000000   8372.000000     12.000000      5.000000   2019.0   \n",
            "75%        1.000000  12373.000000     21.000000      6.000000   2019.0   \n",
            "max        4.000000  79512.000000     27.000000      6.000000   2019.0   \n",
            "\n",
            "          Dep_hours       Dep_min  Arrival_hours   Arrival_min  \\\n",
            "count  10683.000000  10683.000000   10683.000000  10683.000000   \n",
            "mean      12.490686     24.411214      13.348778     24.690630   \n",
            "std        5.748650     18.767980       6.859125     16.506036   \n",
            "min        0.000000      0.000000       0.000000      0.000000   \n",
            "25%        8.000000      5.000000       8.000000     10.000000   \n",
            "50%       11.000000     25.000000      14.000000     25.000000   \n",
            "75%       18.000000     40.000000      19.000000     35.000000   \n",
            "max       23.000000     55.000000      23.000000     55.000000   \n",
            "\n",
            "       Duration_hours  Duration_min  \n",
            "count    10683.000000  10683.000000  \n",
            "mean        10.246560     28.327249  \n",
            "std          8.494988     16.946113  \n",
            "min          1.000000      0.000000  \n",
            "25%          2.000000     15.000000  \n",
            "50%          8.000000     30.000000  \n",
            "75%         15.000000     45.000000  \n",
            "max         47.000000     55.000000  \n",
            "       Airline    Source Destination  Total_Stops  Price  Date  Month  Year  \\\n",
            "0       IndiGo  Banglore   New Delhi            0   3897    24      3  2019   \n",
            "1    Air India   Kolkata    Banglore            2   7662     1      5  2019   \n",
            "2  Jet Airways     Delhi      Cochin            2  13882     9      6  2019   \n",
            "3       IndiGo   Kolkata    Banglore            1   6218    12      5  2019   \n",
            "4       IndiGo  Banglore   New Delhi            1  13302     1      3  2019   \n",
            "\n",
            "   Dep_hours  Dep_min  Arrival_hours  Arrival_min  Duration_hours  \\\n",
            "0         22       20              1           10               2   \n",
            "1          5       50             13           15               7   \n",
            "2          9       25              4           25              19   \n",
            "3         18        5             23           30               5   \n",
            "4         16       50             21           35               4   \n",
            "\n",
            "   Duration_min  \n",
            "0            50  \n",
            "1            25  \n",
            "2             0  \n",
            "3            25  \n",
            "4            45  \n",
            "       Airline Source Destination  Total_Stops  Price  Date  Month  Year  \\\n",
            "0  Jet Airways  Delhi      Cochin            1  10262     9      5  2019   \n",
            "\n",
            "   Dep_hours  Dep_min  Arrival_hours  Arrival_min  Duration_hours  \\\n",
            "0          9        0             19            0               2   \n",
            "\n",
            "   Duration_min  \n",
            "0            30  \n",
            "Total_Stops          0.824207\n",
            "Price             9087.064121\n",
            "Date                13.508378\n",
            "Month                4.708602\n",
            "Year              2019.000000\n",
            "Dep_hours           12.490686\n",
            "Dep_min             24.411214\n",
            "Arrival_hours       13.348778\n",
            "Arrival_min         24.690630\n",
            "Duration_hours      10.246560\n",
            "Duration_min        28.327249\n",
            "dtype: float64\n",
            "Total_Stops          1.0\n",
            "Price             8372.0\n",
            "Date                12.0\n",
            "Month                5.0\n",
            "Year              2019.0\n",
            "Dep_hours           11.0\n",
            "Dep_min             25.0\n",
            "Arrival_hours       14.0\n",
            "Arrival_min         25.0\n",
            "Duration_hours       8.0\n",
            "Duration_min        30.0\n",
            "dtype: float64\n",
            "Airline           0\n",
            "Source            0\n",
            "Destination       0\n",
            "Total_Stops       0\n",
            "Price             0\n",
            "Date              0\n",
            "Month             0\n",
            "Year              0\n",
            "Dep_hours         0\n",
            "Dep_min           0\n",
            "Arrival_hours     0\n",
            "Arrival_min       0\n",
            "Duration_hours    0\n",
            "Duration_min      0\n",
            "dtype: int64\n"
          ]
        }
      ],
      "source": [
        "import pandas as pd\n",
        "df=pd.read_csv('/content/flight_dataset.csv')\n",
        "print(df.info())\n",
        "print(df.describe())\n",
        "print(df.head())\n",
        "print(df.mode())\n",
        "print(df.mean(numeric_only=True))\n",
        "print(df.median(numeric_only=True))\n",
        "print(df.isna().sum())"
      ]
    },
    {
      "cell_type": "code",
      "source": [
        "import pandas as pd\n",
        "from sklearn.model_selection import train_test_split\n",
        "from sklearn.ensemble import RandomForestRegressor\n",
        "from sklearn.metrics import mean_squared_error, r2_score\n",
        "from sklearn.metrics import accuracy_score, confusion_matrix\n",
        "df = pd.read_csv('/content/flight_dataset.csv')\n",
        "x=df[['Date']]\n",
        "y=df['Year']\n",
        "x_train,x_test,y_train,y_test=train_test_split(x,y,test_size=0.2,random_state=42)\n",
        "model=RandomForestRegressor()\n",
        "model.fit(x_train,y_train)\n",
        "y_pred=model.predict(x_test)\n",
        "mse=mean_squared_error(y_test,y_pred)\n",
        "r2=r2_score(y_test,y_pred)\n",
        "accuracy=accuracy_score(y_test,y_pred)\n",
        "cm=confusion_matrix(y_test,y_pred)\n",
        "print(y_pred)\n",
        "print(mse)\n",
        "print(r2)\n",
        "print(accuracy)\n",
        "print(cm)"
      ],
      "metadata": {
        "colab": {
          "base_uri": "https://localhost:8080/"
        },
        "id": "CD_Qz96R483s",
        "outputId": "fb29ea59-b22a-489f-9745-2aa67c401e8a"
      },
      "execution_count": 19,
      "outputs": [
        {
          "output_type": "stream",
          "name": "stdout",
          "text": [
            "[2019. 2019. 2019. ... 2019. 2019. 2019.]\n",
            "0.0\n",
            "1.0\n",
            "1.0\n",
            "[[2137]]\n"
          ]
        }
      ]
    },
    {
      "cell_type": "code",
      "source": [
        "import pandas as pd\n",
        "from sklearn.model_selection import train_test_split\n",
        "from sklearn.svm import SVR\n",
        "from sklearn.metrics import mean_squared_error, r2_score\n",
        "from sklearn.metrics import accuracy_score, confusion_matrix\n",
        "df = pd.read_csv('/content/flight_dataset.csv')\n",
        "x=df[['Date']]\n",
        "y=df['Year']\n",
        "x_train,x_test,y_train,y_test=train_test_split(x,y,test_size=0.2,random_state=42)\n",
        "model=SVR()\n",
        "model.fit(x_train,y_train)\n",
        "y_pred=model.predict(x_test)\n",
        "mse=mean_squared_error(y_test,y_pred)\n",
        "r2=r2_score(y_test,y_pred)\n",
        "accuracy=accuracy_score(y_test,y_pred)\n",
        "cm=confusion_matrix(y_test,y_pred)\n",
        "print(y_pred)\n",
        "print(mse)\n",
        "print(r2)\n",
        "print(accuracy)\n",
        "print(cm)"
      ],
      "metadata": {
        "colab": {
          "base_uri": "https://localhost:8080/"
        },
        "id": "A2uLZknM67jU",
        "outputId": "1be77834-3bc1-485f-d927-973aadaa4e50"
      },
      "execution_count": 22,
      "outputs": [
        {
          "output_type": "stream",
          "name": "stdout",
          "text": [
            "[2019. 2019. 2019. ... 2019. 2019. 2019.]\n",
            "0.0\n",
            "1.0\n",
            "1.0\n",
            "[[2137]]\n"
          ]
        }
      ]
    },
    {
      "cell_type": "markdown",
      "source": [
        "#binary classification"
      ],
      "metadata": {
        "id": "IqqWDqTI6-I9"
      }
    },
    {
      "cell_type": "code",
      "source": [
        "import pandas as pd\n",
        "from sklearn.model_selection import train_test_split\n",
        "from sklearn.linear_model import LogisticRegression\n",
        "from sklearn.metrics import accuracy_score, confusion_matrix\n",
        "df = pd.read_csv('/content/flight_dataset.csv')\n",
        "x=df[['Date', 'Year']]\n",
        "y=df['Month']\n",
        "x_train,x_test,y_train,y_test=train_test_split(x,y,test_size=0.2,random_state=42)\n",
        "model=LogisticRegression()\n",
        "model.fit(x_train,y_train)\n",
        "y_pred=model.predict(x_test)\n",
        "accuracy=accuracy_score(y_test,y_pred)\n",
        "cm=confusion_matrix(y_test,y_pred)\n",
        "print(y_pred)\n",
        "print(accuracy)\n",
        "print(cm)"
      ],
      "metadata": {
        "colab": {
          "base_uri": "https://localhost:8080/"
        },
        "id": "0PntzY_78QFD",
        "outputId": "25e56a93-046c-4a12-e844-9ef397b33b4e"
      },
      "execution_count": 25,
      "outputs": [
        {
          "output_type": "stream",
          "name": "stdout",
          "text": [
            "[5 6 6 ... 5 6 6]\n",
            "0.40009358914365933\n",
            "[[  0   0 257 293]\n",
            " [  0   0  80 133]\n",
            " [  0   0 405 279]\n",
            " [  0   0 240 450]]\n"
          ]
        }
      ]
    },
    {
      "cell_type": "markdown",
      "source": [
        "#multi class"
      ],
      "metadata": {
        "id": "a_om3EuC8TbS"
      }
    },
    {
      "cell_type": "code",
      "source": [
        "import pandas as pd\n",
        "from sklearn.model_selection import train_test_split\n",
        "from sklearn.linear_model import LogisticRegression\n",
        "from sklearn.metrics import accuracy_score, confusion_matrix\n",
        "df = pd.read_csv('/content/flight_dataset.csv')\n",
        "x=df[['Date', 'Year']]\n",
        "y=df['Month']\n",
        "x_train,x_test,y_train,y_test=train_test_split(x,y,test_size=0.2,random_state=42)\n",
        "model=LogisticRegression()\n",
        "model.fit(x_train,y_train)\n",
        "y_pred=model.predict(x_test)\n",
        "accuracy=accuracy_score(y_test,y_pred)\n",
        "cm=confusion_matrix(y_test,y_pred)\n",
        "print(y_pred)\n",
        "print(accuracy)\n",
        "print(cm)"
      ],
      "metadata": {
        "colab": {
          "base_uri": "https://localhost:8080/"
        },
        "id": "fh4aAbpg8fyu",
        "outputId": "cc62fca0-d9a2-41b3-9104-1ab398dcf017"
      },
      "execution_count": 44,
      "outputs": [
        {
          "output_type": "stream",
          "name": "stdout",
          "text": [
            "[5 6 6 ... 5 6 6]\n",
            "0.40009358914365933\n",
            "[[  0   0 257 293]\n",
            " [  0   0  80 133]\n",
            " [  0   0 405 279]\n",
            " [  0   0 240 450]]\n"
          ]
        }
      ]
    },
    {
      "cell_type": "markdown",
      "source": [
        "#multi label"
      ],
      "metadata": {
        "id": "_Mx6l2Fe_pv5"
      }
    },
    {
      "cell_type": "code",
      "source": [
        "import pandas as pd\n",
        "from sklearn.model_selection import train_test_split\n",
        "from sklearn.linear_model import LogisticRegression\n",
        "from sklearn.metrics import accuracy_score, confusion_matrix\n",
        "df = pd.read_csv('/content/flight_dataset.csv')\n",
        "x=df[['Date', 'Year']]\n",
        "y=df['Month']\n",
        "x_train,x_test,y_train,y_test=train_test_split(x,y,test_size=0.2,random_state=42)\n",
        "model=LogisticRegression()\n",
        "model.fit(x_train,y_train)\n",
        "y_pred=model.predict(x_test)\n",
        "accuracy=accuracy_score(y_test,y_pred)\n",
        "cm=confusion_matrix(y_test,y_pred)\n",
        "print(y_pred)\n",
        "print(accuracy)\n",
        "print(cm)"
      ],
      "metadata": {
        "colab": {
          "base_uri": "https://localhost:8080/"
        },
        "id": "WfWoogIm_VlB",
        "outputId": "4e1f7c5f-7130-4346-ce3f-17691828a122"
      },
      "execution_count": 42,
      "outputs": [
        {
          "output_type": "stream",
          "name": "stdout",
          "text": [
            "[5 6 6 ... 5 6 6]\n",
            "0.40009358914365933\n",
            "[[  0   0 257 293]\n",
            " [  0   0  80 133]\n",
            " [  0   0 405 279]\n",
            " [  0   0 240 450]]\n"
          ]
        }
      ]
    },
    {
      "cell_type": "markdown",
      "source": [
        "#imbalanced"
      ],
      "metadata": {
        "id": "xj1pBw7b_5bo"
      }
    },
    {
      "cell_type": "code",
      "source": [
        "import pandas as pd\n",
        "from sklearn.model_selection import train_test_split\n",
        "from sklearn.linear_model import LogisticRegression\n",
        "from sklearn.metrics import accuracy_score, confusion_matrix\n",
        "df=pd.read_csv('/content/flight_dataset.csv')\n",
        "from imblearn.over_sampling import SMOTE\n",
        "smote = SMOTE(random_state=42)\n",
        "x_train_resampled, y_train_resampled = smote.fit_resample(x_train, y_train)\n",
        "model = LogisticRegression()\n",
        "model.fit(x_train_resampled, y_train_resampled)\n",
        "y_pred = model.predict(x_test)\n",
        "accuracy = accuracy_score(y_test, y_pred)\n",
        "cm = confusion_matrix(y_test, y_pred)\n",
        "print(y_pred)\n",
        "print(accuracy)\n",
        "print(cm)"
      ],
      "metadata": {
        "colab": {
          "base_uri": "https://localhost:8080/"
        },
        "id": "abdTcGtS_ytY",
        "outputId": "ee776cbe-7175-48dd-dabb-77af7297c65e"
      },
      "execution_count": 45,
      "outputs": [
        {
          "output_type": "stream",
          "name": "stdout",
          "text": [
            "[5 4 4 ... 5 4 4]\n",
            "0.2924660739354235\n",
            "[[  0 259 257  34]\n",
            " [  0 122  80  11]\n",
            " [  0 220 405  59]\n",
            " [  0 352 240  98]]\n"
          ]
        }
      ]
    }
  ]
}